{
 "cells": [
  {
   "cell_type": "code",
   "execution_count": 2,
   "id": "8cfa98b6-161d-48f3-a48e-e785efb2070c",
   "metadata": {},
   "outputs": [],
   "source": [
    "from atm import ATM"
   ]
  },
  {
   "cell_type": "code",
   "execution_count": 3,
   "id": "b56930c8-633b-458f-971f-24fb1c48b228",
   "metadata": {},
   "outputs": [],
   "source": [
    "atm = ATM()"
   ]
  },
  {
   "cell_type": "code",
   "execution_count": 13,
   "id": "fbb3037d-9dd8-4555-88e3-d9e68f1c73b8",
   "metadata": {},
   "outputs": [
    {
     "name": "stdout",
     "output_type": "stream",
     "text": [
      "Processing dataset ./datasets/Dry_Bean_Dataset.csv\n"
     ]
    },
    {
     "name": "stderr",
     "output_type": "stream",
     "text": [
      "100%|##########| 100/100 [08:47<00:00, 24.58s/it] Classifier budget has run out!\n",
      "Datarun 1 has ended.\n",
      "100%|##########| 100/100 [08:47<00:00,  5.27s/it]\n"
     ]
    }
   ],
   "source": [
    "results = atm.run(train_path='./datasets/Dry_Bean_Dataset.csv', class_column='Class')"
   ]
  },
  {
   "cell_type": "code",
   "execution_count": 14,
   "id": "54680891-daba-496f-bd08-62c5633d5f31",
   "metadata": {},
   "outputs": [
    {
     "name": "stdout",
     "output_type": "stream",
     "text": [
      "Datarun 1 summary:\n",
      "\tDataset: './datasets/Dry_Bean_Dataset.csv'\n",
      "\tColumn Name: 'Class'\n",
      "\tJudgment Metric: 'f1'\n",
      "\tClassifiers Tested: 100\n",
      "\tElapsed Time: 0:08:47.367824\n"
     ]
    }
   ],
   "source": [
    "results.describe()"
   ]
  },
  {
   "cell_type": "code",
   "execution_count": 15,
   "id": "c1650801-77c5-44e8-8e6b-089dc066b21c",
   "metadata": {},
   "outputs": [
    {
     "data": {
      "text/plain": [
       "Classifier id: 93\n",
       "Classifier type: knn\n",
       "Params chosen: \n",
       "\tn_neighbors: 11\n",
       "\tleaf_size: 17\n",
       "\tp: 2\n",
       "\tweights: distance\n",
       "\talgorithm: kd_tree\n",
       "\tmetric: minkowski\n",
       "\t_scale: True\n",
       "Cross Validation Score: 0.937 +- 0.004\n",
       "Test Score: 0.937"
      ]
     },
     "execution_count": 15,
     "metadata": {},
     "output_type": "execute_result"
    }
   ],
   "source": [
    "results.get_best_classifier()"
   ]
  },
  {
   "cell_type": "code",
   "execution_count": 16,
   "id": "ff6e6dfa-2329-46ff-8020-c97ce282ce15",
   "metadata": {},
   "outputs": [],
   "source": [
    "scores = results.get_scores()"
   ]
  },
  {
   "cell_type": "code",
   "execution_count": 17,
   "id": "daa53513-73da-4452-a746-e7da2722955c",
   "metadata": {},
   "outputs": [
    {
     "data": {
      "text/html": [
       "<div>\n",
       "<style scoped>\n",
       "    .dataframe tbody tr th:only-of-type {\n",
       "        vertical-align: middle;\n",
       "    }\n",
       "\n",
       "    .dataframe tbody tr th {\n",
       "        vertical-align: top;\n",
       "    }\n",
       "\n",
       "    .dataframe thead th {\n",
       "        text-align: right;\n",
       "    }\n",
       "</style>\n",
       "<table border=\"1\" class=\"dataframe\">\n",
       "  <thead>\n",
       "    <tr style=\"text-align: right;\">\n",
       "      <th></th>\n",
       "      <th>cv_judgment_metric</th>\n",
       "      <th>cv_judgment_metric_stdev</th>\n",
       "      <th>id</th>\n",
       "      <th>test_judgment_metric</th>\n",
       "      <th>rank</th>\n",
       "    </tr>\n",
       "  </thead>\n",
       "  <tbody>\n",
       "    <tr>\n",
       "      <th>0</th>\n",
       "      <td>0.9371622963</td>\n",
       "      <td>0.0043939617</td>\n",
       "      <td>93</td>\n",
       "      <td>0.9373754260</td>\n",
       "      <td>1.0</td>\n",
       "    </tr>\n",
       "    <tr>\n",
       "      <th>1</th>\n",
       "      <td>0.9370360434</td>\n",
       "      <td>0.0072716194</td>\n",
       "      <td>86</td>\n",
       "      <td>0.9343909957</td>\n",
       "      <td>2.0</td>\n",
       "    </tr>\n",
       "    <tr>\n",
       "      <th>2</th>\n",
       "      <td>0.9369340737</td>\n",
       "      <td>0.0042115984</td>\n",
       "      <td>41</td>\n",
       "      <td>0.9355840155</td>\n",
       "      <td>3.0</td>\n",
       "    </tr>\n",
       "    <tr>\n",
       "      <th>3</th>\n",
       "      <td>0.9367080475</td>\n",
       "      <td>0.0043415682</td>\n",
       "      <td>96</td>\n",
       "      <td>0.9336197983</td>\n",
       "      <td>4.0</td>\n",
       "    </tr>\n",
       "    <tr>\n",
       "      <th>4</th>\n",
       "      <td>0.9364492381</td>\n",
       "      <td>0.0051372065</td>\n",
       "      <td>100</td>\n",
       "      <td>0.9312228214</td>\n",
       "      <td>5.0</td>\n",
       "    </tr>\n",
       "  </tbody>\n",
       "</table>\n",
       "</div>"
      ],
      "text/plain": [
       "  cv_judgment_metric cv_judgment_metric_stdev   id test_judgment_metric  rank\n",
       "0       0.9371622963             0.0043939617   93         0.9373754260   1.0\n",
       "1       0.9370360434             0.0072716194   86         0.9343909957   2.0\n",
       "2       0.9369340737             0.0042115984   41         0.9355840155   3.0\n",
       "3       0.9367080475             0.0043415682   96         0.9336197983   4.0\n",
       "4       0.9364492381             0.0051372065  100         0.9312228214   5.0"
      ]
     },
     "execution_count": 17,
     "metadata": {},
     "output_type": "execute_result"
    }
   ],
   "source": [
    "scores.head()"
   ]
  },
  {
   "cell_type": "code",
   "execution_count": 18,
   "id": "6ae03c0f-2c6b-43d9-9d42-eeafb3de7e50",
   "metadata": {},
   "outputs": [
    {
     "name": "stdout",
     "output_type": "stream",
     "text": [
      "Classifier 93 saved as ./best_classifier/dry-bean-1.pkl\n"
     ]
    }
   ],
   "source": [
    "results.export_best_classifier('./best_classifier/dry-bean-1.pkl')"
   ]
  },
  {
   "cell_type": "code",
   "execution_count": null,
   "id": "22468339-d95f-4620-81cc-70d9b2530b2a",
   "metadata": {},
   "outputs": [],
   "source": []
  }
 ],
 "metadata": {
  "kernelspec": {
   "display_name": "automl",
   "language": "python",
   "name": "automl"
  },
  "language_info": {
   "codemirror_mode": {
    "name": "ipython",
    "version": 3
   },
   "file_extension": ".py",
   "mimetype": "text/x-python",
   "name": "python",
   "nbconvert_exporter": "python",
   "pygments_lexer": "ipython3",
   "version": "3.6.15"
  }
 },
 "nbformat": 4,
 "nbformat_minor": 5
}
